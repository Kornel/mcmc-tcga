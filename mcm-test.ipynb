{
 "cells": [
  {
   "cell_type": "code",
   "execution_count": null,
   "metadata": {
    "collapsed": false
   },
   "outputs": [],
   "source": [
    "from pymc import DiscreteUniform, Exponential, deterministic, Poisson, Uniform\n",
    "import numpy as np\n",
    "import pandas as pd\n",
    "import pymc\n",
    "import seaborn as sns\n",
    "import scipy, scipy.stats\n",
    "from scipy.stats import mode\n",
    "import pylab\n",
    "from matplotlib import pyplot as plt\n",
    "from pymc.Matplot import plot as mcplot\n",
    "sns.set(color_codes=True)\n",
    "%matplotlib inline\n",
    "%config InlineBackend.figure_format = 'retina'"
   ]
  },
  {
   "cell_type": "code",
   "execution_count": null,
   "metadata": {
    "collapsed": false
   },
   "outputs": [],
   "source": [
    "df = pd.read_csv('data/BRCA-filtered.txt.gz', sep = '\\t', index_col = 0)"
   ]
  },
  {
   "cell_type": "code",
   "execution_count": null,
   "metadata": {
    "collapsed": true
   },
   "outputs": [],
   "source": [
    "dft = df.transpose()"
   ]
  },
  {
   "cell_type": "code",
   "execution_count": null,
   "metadata": {
    "collapsed": false
   },
   "outputs": [],
   "source": [
    "dft.describe()"
   ]
  },
  {
   "cell_type": "code",
   "execution_count": null,
   "metadata": {
    "collapsed": false
   },
   "outputs": [],
   "source": [
    "sample_row = 'ZNF114|163071'\n",
    "sample_row_2 = 'ZNF205|7755'"
   ]
  },
  {
   "cell_type": "code",
   "execution_count": null,
   "metadata": {
    "collapsed": false
   },
   "outputs": [],
   "source": [
    "# 1 - tumor\n",
    "# 11 - healthy\n",
    "healthy = dft.iloc[dft.index.str.contains(\"-11A-\")]\n",
    "tumor = dft.iloc[dft.index.str.contains(\"-01A-\")]"
   ]
  },
  {
   "cell_type": "code",
   "execution_count": null,
   "metadata": {
    "collapsed": false
   },
   "outputs": [],
   "source": [
    "plt.figure(figsize=(18, 8))\n",
    "sns.distplot(healthy[sample_row], label = 'healthy', color = 'green')\n",
    "sns.distplot(tumor[sample_row], label = 'tumor', color = 'darkred')\n",
    "plt.legend()"
   ]
  },
  {
   "cell_type": "code",
   "execution_count": null,
   "metadata": {
    "collapsed": false
   },
   "outputs": [],
   "source": [
    "print 'tumor:', mode(tumor[sample_row]).mode[0]\n",
    "print 'healthy:', mode(healthy[sample_row]).mode[0]"
   ]
  },
  {
   "cell_type": "markdown",
   "metadata": {},
   "source": [
    "# Tumor"
   ]
  },
  {
   "cell_type": "code",
   "execution_count": null,
   "metadata": {
    "collapsed": false
   },
   "outputs": [],
   "source": [
    "successes_t = pymc.DiscreteUniform('successes', lower = 1, upper = 20)\n",
    "\n",
    "p_successes_t = pymc.Uniform('p_success', 0, 1)\n",
    "\n",
    "@deterministic()\n",
    "def mu_t(p = p_successes_t, s = successes_t):\n",
    "    return successes_t / p_successes_t - successes_t\n",
    "\n",
    "obs_t = pymc.NegativeBinomial('tumor', mu = mu_t, alpha = successes_t, value = tumor[sample_row], observed = True)"
   ]
  },
  {
   "cell_type": "code",
   "execution_count": null,
   "metadata": {
    "collapsed": false
   },
   "outputs": [],
   "source": [
    "model_t = pymc.Model([successes_t, mu_t, obs_t])\n",
    "\n",
    "map_t = pymc.MAP(model_t)\n",
    "map_t.fit()\n",
    "\n",
    "mcmc_t = pymc.MCMC(model_t)\n",
    "mcmc_t.sample(100000, 50000)"
   ]
  },
  {
   "cell_type": "code",
   "execution_count": null,
   "metadata": {
    "collapsed": false
   },
   "outputs": [],
   "source": [
    "fig, axs = plt.subplots(1, 2, figsize = (18, 5))\n",
    "\n",
    "successes_t_trace = mcmc_t.trace('successes')[:]\n",
    "p_success_t_trace = mcmc_t.trace('p_success')[:]\n",
    "\n",
    "sns.distplot(successes_t_trace, ax = axs[0], label = 'successes', color = 'red')\n",
    "sns.distplot(p_success_t_trace, ax = axs[1], label = 'p(success)', color = 'red')\n",
    "\n",
    "plt.legend()\n",
    "\n",
    "print 'Successes mean probability:', np.mean(p_success_t_trace)\n",
    "print 'Successes mean count:', np.mean(successes_t_trace)"
   ]
  },
  {
   "cell_type": "code",
   "execution_count": null,
   "metadata": {
    "collapsed": false
   },
   "outputs": [],
   "source": [
    "plt.figure(figsize=(10, 5))\n",
    "sns.kdeplot(tumor[sample_row], shade = False, color = 'red')\n",
    "\n",
    "n = np.mean(successes_t_trace)\n",
    "p = np.mean(p_success_t_trace)\n",
    "\n",
    "print n, p\n",
    "\n",
    "x = np.arange(-10, 250, 1)\n",
    "pmf = scipy.stats.nbinom.pmf(x, n, p)\n",
    "pylab.plot(x, pmf, label = 'mcmc', color = 'orange')\n",
    "plt.legend()"
   ]
  },
  {
   "cell_type": "markdown",
   "metadata": {},
   "source": [
    "# Healthy"
   ]
  },
  {
   "cell_type": "code",
   "execution_count": null,
   "metadata": {
    "collapsed": false
   },
   "outputs": [],
   "source": [
    "successes_h = pymc.DiscreteUniform('successes', lower = 1, upper = 20)\n",
    "\n",
    "p_successes_h = pymc.Uniform('p_success', 0, 1)\n",
    "\n",
    "@deterministic()\n",
    "def mu_h(p = p_successes_h, s = successes_h):\n",
    "    return successes_h / p_successes_h - successes_h\n",
    "\n",
    "obs_h = pymc.NegativeBinomial('healthy', mu = mu_h, alpha = successes_h, value = healthy[sample_row], observed = True)"
   ]
  },
  {
   "cell_type": "code",
   "execution_count": null,
   "metadata": {
    "collapsed": false
   },
   "outputs": [],
   "source": [
    "model_h = pymc.Model([successes_h, mu_h, obs_h])\n",
    "\n",
    "map_h = pymc.MAP(model_h)\n",
    "map_h.fit()\n",
    "\n",
    "mcmc_h = pymc.MCMC(model_h)\n",
    "mcmc_h.sample(1000000, 50000)"
   ]
  },
  {
   "cell_type": "code",
   "execution_count": null,
   "metadata": {
    "collapsed": false
   },
   "outputs": [],
   "source": [
    "fig, axs = plt.subplots(1, 2, figsize = (18, 5))\n",
    "\n",
    "successes_h_trace = mcmc_h.trace('successes')[:]\n",
    "p_success_h_trace = mcmc_h.trace('p_success')[:]\n",
    "\n",
    "sns.distplot(successes_h_trace, ax = axs[0], label = 'successes', color = 'green')\n",
    "sns.distplot(p_success_h_trace, ax = axs[1], label = 'p(success)', color = 'green')\n",
    "\n",
    "plt.legend()\n",
    "\n",
    "print 'Successes mean probability:', np.mean(p_success_h_trace)\n",
    "print 'Successes mean count:', np.mean(successes_h_trace)"
   ]
  },
  {
   "cell_type": "code",
   "execution_count": null,
   "metadata": {
    "collapsed": false
   },
   "outputs": [],
   "source": [
    "plt.figure(figsize=(10, 5))\n",
    "sns.kdeplot(healthy[sample_row], shade = False, color = 'green')\n",
    "\n",
    "n = np.mean(successes_h_trace)\n",
    "p = np.mean(p_success_h_trace)\n",
    "\n",
    "print n, p\n",
    "\n",
    "x = np.arange(-10, 250, 1)\n",
    "pmf = scipy.stats.nbinom.pmf(x, n, p)\n",
    "pylab.plot(x, pmf, label = 'mcmc', color = 'orange')\n",
    "plt.legend()"
   ]
  },
  {
   "cell_type": "code",
   "execution_count": null,
   "metadata": {
    "collapsed": false
   },
   "outputs": [],
   "source": [
    "mcplot(mcmc_t.trace('successes'), common_scale=False)\n",
    "mcplot(mcmc_t.trace('p_success'), common_scale=False)\n",
    "mcplot(mcmc_h.trace('successes'), common_scale=False)\n",
    "mcplot(mcmc_h.trace('p_success'), common_scale=False)"
   ]
  }
 ],
 "metadata": {
  "kernelspec": {
   "display_name": "Python 2",
   "language": "python",
   "name": "python2"
  },
  "language_info": {
   "codemirror_mode": {
    "name": "ipython",
    "version": 2
   },
   "file_extension": ".py",
   "mimetype": "text/x-python",
   "name": "python",
   "nbconvert_exporter": "python",
   "pygments_lexer": "ipython2",
   "version": "2.7.12"
  }
 },
 "nbformat": 4,
 "nbformat_minor": 0
}
